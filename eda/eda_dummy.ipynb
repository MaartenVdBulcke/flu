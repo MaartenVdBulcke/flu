{
 "cells": [
  {
   "cell_type": "code",
   "execution_count": 1,
   "metadata": {},
   "outputs": [],
   "source": [
    "from pandas import read_csv, merge\n",
    "from pathlib import Path\n",
    "import matplotlib.pyplot as plt\n",
    "import numpy as np\n",
    "\n",
    "import warnings\n",
    "warnings.filterwarnings('ignore')\n",
    "\n",
    "import pandas as pd\n",
    "pd.set_option.max_columns = 999\n",
    "pd.set_option.max_rows = 999"
   ]
  },
  {
   "cell_type": "code",
   "execution_count": 2,
   "metadata": {},
   "outputs": [],
   "source": [
    "data_base_path = Path(r'../data/')\n",
    "train_X_path = Path(data_base_path / 'training_set_features.csv')\n",
    "train_y_path = Path(data_base_path / 'training_set_labels.csv')\n",
    "test_X_path = Path(data_base_path / 'test_set_features.csv')"
   ]
  },
  {
   "cell_type": "code",
   "execution_count": 3,
   "metadata": {},
   "outputs": [],
   "source": [
    "train_X = read_csv(train_X_path)\n",
    "train_y = read_csv(train_y_path)\n",
    "test_X = read_csv(test_X_path)"
   ]
  },
  {
   "cell_type": "markdown",
   "metadata": {},
   "source": [
    "# Exploring training labels"
   ]
  },
  {
   "cell_type": "code",
   "execution_count": 5,
   "metadata": {},
   "outputs": [
    {
     "data": {
      "text/html": [
       "<div>\n",
       "<style scoped>\n",
       "    .dataframe tbody tr th:only-of-type {\n",
       "        vertical-align: middle;\n",
       "    }\n",
       "\n",
       "    .dataframe tbody tr th {\n",
       "        vertical-align: top;\n",
       "    }\n",
       "\n",
       "    .dataframe thead th {\n",
       "        text-align: right;\n",
       "    }\n",
       "</style>\n",
       "<table border=\"1\" class=\"dataframe\">\n",
       "  <thead>\n",
       "    <tr style=\"text-align: right;\">\n",
       "      <th>seasonal_vaccine</th>\n",
       "      <th>0</th>\n",
       "      <th>1</th>\n",
       "    </tr>\n",
       "    <tr>\n",
       "      <th>h1n1_vaccine</th>\n",
       "      <th></th>\n",
       "      <th></th>\n",
       "    </tr>\n",
       "  </thead>\n",
       "  <tbody>\n",
       "    <tr>\n",
       "      <th>0</th>\n",
       "      <td>13295</td>\n",
       "      <td>7738</td>\n",
       "    </tr>\n",
       "    <tr>\n",
       "      <th>1</th>\n",
       "      <td>977</td>\n",
       "      <td>4697</td>\n",
       "    </tr>\n",
       "  </tbody>\n",
       "</table>\n",
       "</div>"
      ],
      "text/plain": [
       "seasonal_vaccine      0     1\n",
       "h1n1_vaccine                 \n",
       "0                 13295  7738\n",
       "1                   977  4697"
      ]
     },
     "execution_count": 5,
     "metadata": {},
     "output_type": "execute_result"
    }
   ],
   "source": [
    "pd.crosstab(\n",
    "    train_y[\"h1n1_vaccine\"], \n",
    "    train_y[\"seasonal_vaccine\"], \n",
    "    # margins=True,\n",
    "    normalize=False\n",
    ")"
   ]
  },
  {
   "cell_type": "markdown",
   "metadata": {},
   "source": [
    "# EXPLORE TRAINING FEATURES"
   ]
  },
  {
   "cell_type": "code",
   "execution_count": 9,
   "metadata": {},
   "outputs": [
    {
     "data": {
      "text/plain": [
       "Index(['respondent_id', 'h1n1_vaccine', 'seasonal_vaccine'], dtype='object')"
      ]
     },
     "execution_count": 9,
     "metadata": {},
     "output_type": "execute_result"
    }
   ],
   "source": [
    "train_y.columns"
   ]
  },
  {
   "cell_type": "code",
   "execution_count": 10,
   "metadata": {},
   "outputs": [
    {
     "data": {
      "text/plain": [
       "Index(['respondent_id', 'h1n1_concern', 'h1n1_knowledge',\n",
       "       'behavioral_antiviral_meds', 'behavioral_avoidance',\n",
       "       'behavioral_face_mask', 'behavioral_wash_hands',\n",
       "       'behavioral_large_gatherings', 'behavioral_outside_home',\n",
       "       'behavioral_touch_face', 'doctor_recc_h1n1', 'doctor_recc_seasonal',\n",
       "       'chronic_med_condition', 'child_under_6_months', 'health_worker',\n",
       "       'health_insurance', 'opinion_h1n1_vacc_effective', 'opinion_h1n1_risk',\n",
       "       'opinion_h1n1_sick_from_vacc', 'opinion_seas_vacc_effective',\n",
       "       'opinion_seas_risk', 'opinion_seas_sick_from_vacc', 'age_group',\n",
       "       'education', 'race', 'sex', 'income_poverty', 'marital_status',\n",
       "       'rent_or_own', 'employment_status', 'hhs_geo_region', 'census_msa',\n",
       "       'household_adults', 'household_children', 'employment_industry',\n",
       "       'employment_occupation'],\n",
       "      dtype='object')"
      ]
     },
     "execution_count": 10,
     "metadata": {},
     "output_type": "execute_result"
    }
   ],
   "source": [
    "train_X.columns\n"
   ]
  },
  {
   "cell_type": "code",
   "execution_count": 12,
   "metadata": {},
   "outputs": [
    {
     "data": {
      "text/html": [
       "<div>\n",
       "<style scoped>\n",
       "    .dataframe tbody tr th:only-of-type {\n",
       "        vertical-align: middle;\n",
       "    }\n",
       "\n",
       "    .dataframe tbody tr th {\n",
       "        vertical-align: top;\n",
       "    }\n",
       "\n",
       "    .dataframe thead th {\n",
       "        text-align: right;\n",
       "    }\n",
       "</style>\n",
       "<table border=\"1\" class=\"dataframe\">\n",
       "  <thead>\n",
       "    <tr style=\"text-align: right;\">\n",
       "      <th>seasonal_vaccine</th>\n",
       "      <th>0</th>\n",
       "      <th>1</th>\n",
       "    </tr>\n",
       "    <tr>\n",
       "      <th>age_group</th>\n",
       "      <th></th>\n",
       "      <th></th>\n",
       "    </tr>\n",
       "  </thead>\n",
       "  <tbody>\n",
       "    <tr>\n",
       "      <th>18 - 34 Years</th>\n",
       "      <td>3731</td>\n",
       "      <td>1484</td>\n",
       "    </tr>\n",
       "    <tr>\n",
       "      <th>35 - 44 Years</th>\n",
       "      <td>2453</td>\n",
       "      <td>1395</td>\n",
       "    </tr>\n",
       "    <tr>\n",
       "      <th>45 - 54 Years</th>\n",
       "      <td>3136</td>\n",
       "      <td>2102</td>\n",
       "    </tr>\n",
       "    <tr>\n",
       "      <th>55 - 64 Years</th>\n",
       "      <td>2719</td>\n",
       "      <td>2844</td>\n",
       "    </tr>\n",
       "    <tr>\n",
       "      <th>65+ Years</th>\n",
       "      <td>2233</td>\n",
       "      <td>4610</td>\n",
       "    </tr>\n",
       "  </tbody>\n",
       "</table>\n",
       "</div>"
      ],
      "text/plain": [
       "seasonal_vaccine     0     1\n",
       "age_group                   \n",
       "18 - 34 Years     3731  1484\n",
       "35 - 44 Years     2453  1395\n",
       "45 - 54 Years     3136  2102\n",
       "55 - 64 Years     2719  2844\n",
       "65+ Years         2233  4610"
      ]
     },
     "execution_count": 12,
     "metadata": {},
     "output_type": "execute_result"
    }
   ],
   "source": [
    "pd.crosstab(\n",
    "    train_X['age_group'], \n",
    "    train_y[\"seasonal_vaccine\"], \n",
    "    # margins=True,\n",
    "    # normalize=True\n",
    ")\n"
   ]
  },
  {
   "cell_type": "code",
   "execution_count": 13,
   "metadata": {},
   "outputs": [
    {
     "data": {
      "text/html": [
       "<div>\n",
       "<style scoped>\n",
       "    .dataframe tbody tr th:only-of-type {\n",
       "        vertical-align: middle;\n",
       "    }\n",
       "\n",
       "    .dataframe tbody tr th {\n",
       "        vertical-align: top;\n",
       "    }\n",
       "\n",
       "    .dataframe thead th {\n",
       "        text-align: right;\n",
       "    }\n",
       "</style>\n",
       "<table border=\"1\" class=\"dataframe\">\n",
       "  <thead>\n",
       "    <tr style=\"text-align: right;\">\n",
       "      <th>h1n1_vaccine</th>\n",
       "      <th>0</th>\n",
       "      <th>1</th>\n",
       "    </tr>\n",
       "    <tr>\n",
       "      <th>age_group</th>\n",
       "      <th></th>\n",
       "      <th></th>\n",
       "    </tr>\n",
       "  </thead>\n",
       "  <tbody>\n",
       "    <tr>\n",
       "      <th>18 - 34 Years</th>\n",
       "      <td>4224</td>\n",
       "      <td>991</td>\n",
       "    </tr>\n",
       "    <tr>\n",
       "      <th>35 - 44 Years</th>\n",
       "      <td>3087</td>\n",
       "      <td>761</td>\n",
       "    </tr>\n",
       "    <tr>\n",
       "      <th>45 - 54 Years</th>\n",
       "      <td>4218</td>\n",
       "      <td>1020</td>\n",
       "    </tr>\n",
       "    <tr>\n",
       "      <th>55 - 64 Years</th>\n",
       "      <td>4212</td>\n",
       "      <td>1351</td>\n",
       "    </tr>\n",
       "    <tr>\n",
       "      <th>65+ Years</th>\n",
       "      <td>5292</td>\n",
       "      <td>1551</td>\n",
       "    </tr>\n",
       "  </tbody>\n",
       "</table>\n",
       "</div>"
      ],
      "text/plain": [
       "h1n1_vaccine      0     1\n",
       "age_group                \n",
       "18 - 34 Years  4224   991\n",
       "35 - 44 Years  3087   761\n",
       "45 - 54 Years  4218  1020\n",
       "55 - 64 Years  4212  1351\n",
       "65+ Years      5292  1551"
      ]
     },
     "execution_count": 13,
     "metadata": {},
     "output_type": "execute_result"
    }
   ],
   "source": [
    "pd.crosstab(\n",
    "    train_X['age_group'], \n",
    "    train_y[\"h1n1_vaccine\"], \n",
    "    # margins=True,\n",
    "    # normalize=True\n",
    ")"
   ]
  },
  {
   "cell_type": "code",
   "execution_count": 14,
   "metadata": {},
   "outputs": [
    {
     "data": {
      "text/html": [
       "<div>\n",
       "<style scoped>\n",
       "    .dataframe tbody tr th:only-of-type {\n",
       "        vertical-align: middle;\n",
       "    }\n",
       "\n",
       "    .dataframe tbody tr th {\n",
       "        vertical-align: top;\n",
       "    }\n",
       "\n",
       "    .dataframe thead th {\n",
       "        text-align: right;\n",
       "    }\n",
       "</style>\n",
       "<table border=\"1\" class=\"dataframe\">\n",
       "  <thead>\n",
       "    <tr style=\"text-align: right;\">\n",
       "      <th>h1n1_vaccine</th>\n",
       "      <th>0</th>\n",
       "      <th>1</th>\n",
       "    </tr>\n",
       "    <tr>\n",
       "      <th>health_insurance</th>\n",
       "      <th></th>\n",
       "      <th></th>\n",
       "    </tr>\n",
       "  </thead>\n",
       "  <tbody>\n",
       "    <tr>\n",
       "      <th>0.0</th>\n",
       "      <td>1480</td>\n",
       "      <td>256</td>\n",
       "    </tr>\n",
       "    <tr>\n",
       "      <th>1.0</th>\n",
       "      <td>8663</td>\n",
       "      <td>4034</td>\n",
       "    </tr>\n",
       "  </tbody>\n",
       "</table>\n",
       "</div>"
      ],
      "text/plain": [
       "h1n1_vaccine         0     1\n",
       "health_insurance            \n",
       "0.0               1480   256\n",
       "1.0               8663  4034"
      ]
     },
     "execution_count": 14,
     "metadata": {},
     "output_type": "execute_result"
    }
   ],
   "source": [
    "pd.crosstab(\n",
    "    train_X['health_insurance'], \n",
    "    train_y[\"h1n1_vaccine\"], \n",
    "    # margins=True,\n",
    "    # normalize=True\n",
    ")"
   ]
  },
  {
   "cell_type": "code",
   "execution_count": 15,
   "metadata": {},
   "outputs": [
    {
     "data": {
      "text/html": [
       "<div>\n",
       "<style scoped>\n",
       "    .dataframe tbody tr th:only-of-type {\n",
       "        vertical-align: middle;\n",
       "    }\n",
       "\n",
       "    .dataframe tbody tr th {\n",
       "        vertical-align: top;\n",
       "    }\n",
       "\n",
       "    .dataframe thead th {\n",
       "        text-align: right;\n",
       "    }\n",
       "</style>\n",
       "<table border=\"1\" class=\"dataframe\">\n",
       "  <thead>\n",
       "    <tr style=\"text-align: right;\">\n",
       "      <th>seasonal_vaccine</th>\n",
       "      <th>0</th>\n",
       "      <th>1</th>\n",
       "    </tr>\n",
       "    <tr>\n",
       "      <th>health_insurance</th>\n",
       "      <th></th>\n",
       "      <th></th>\n",
       "    </tr>\n",
       "  </thead>\n",
       "  <tbody>\n",
       "    <tr>\n",
       "      <th>0.0</th>\n",
       "      <td>1338</td>\n",
       "      <td>398</td>\n",
       "    </tr>\n",
       "    <tr>\n",
       "      <th>1.0</th>\n",
       "      <td>5866</td>\n",
       "      <td>6831</td>\n",
       "    </tr>\n",
       "  </tbody>\n",
       "</table>\n",
       "</div>"
      ],
      "text/plain": [
       "seasonal_vaccine     0     1\n",
       "health_insurance            \n",
       "0.0               1338   398\n",
       "1.0               5866  6831"
      ]
     },
     "execution_count": 15,
     "metadata": {},
     "output_type": "execute_result"
    }
   ],
   "source": [
    "pd.crosstab(\n",
    "    train_X['health_insurance'], \n",
    "    train_y[\"seasonal_vaccine\"], \n",
    "    # margins=True,\n",
    "    # normalize=True\n",
    ")"
   ]
  },
  {
   "cell_type": "code",
   "execution_count": 27,
   "metadata": {},
   "outputs": [
    {
     "name": "stdout",
     "output_type": "stream",
     "text": [
      "<class 'pandas.core.frame.DataFrame'>\n",
      "RangeIndex: 26707 entries, 0 to 26706\n",
      "Data columns (total 97 columns):\n",
      " #   Column                                Non-Null Count  Dtype  \n",
      "---  ------                                --------------  -----  \n",
      " 0   respondent_id                         26707 non-null  int64  \n",
      " 1   h1n1_concern                          26615 non-null  float64\n",
      " 2   h1n1_knowledge                        26591 non-null  float64\n",
      " 3   behavioral_antiviral_meds             26636 non-null  float64\n",
      " 4   behavioral_avoidance                  26499 non-null  float64\n",
      " 5   behavioral_face_mask                  26688 non-null  float64\n",
      " 6   behavioral_wash_hands                 26665 non-null  float64\n",
      " 7   behavioral_large_gatherings           26620 non-null  float64\n",
      " 8   behavioral_outside_home               26625 non-null  float64\n",
      " 9   behavioral_touch_face                 26579 non-null  float64\n",
      " 10  doctor_recc_h1n1                      24547 non-null  float64\n",
      " 11  doctor_recc_seasonal                  24547 non-null  float64\n",
      " 12  chronic_med_condition                 25736 non-null  float64\n",
      " 13  child_under_6_months                  25887 non-null  float64\n",
      " 14  health_worker                         25903 non-null  float64\n",
      " 15  health_insurance                      14433 non-null  float64\n",
      " 16  opinion_h1n1_vacc_effective           26316 non-null  float64\n",
      " 17  opinion_h1n1_risk                     26319 non-null  float64\n",
      " 18  opinion_h1n1_sick_from_vacc           26312 non-null  float64\n",
      " 19  opinion_seas_vacc_effective           26245 non-null  float64\n",
      " 20  opinion_seas_risk                     26193 non-null  float64\n",
      " 21  opinion_seas_sick_from_vacc           26170 non-null  float64\n",
      " 22  age_group                             26707 non-null  int64  \n",
      " 23  education                             25300 non-null  float64\n",
      " 24  income_poverty                        22284 non-null  float64\n",
      " 25  household_adults                      26458 non-null  float64\n",
      " 26  household_children                    26458 non-null  float64\n",
      " 27  hhs_geo_region_atmpeygn               26707 non-null  uint8  \n",
      " 28  hhs_geo_region_bhuqouqj               26707 non-null  uint8  \n",
      " 29  hhs_geo_region_dqpwygqj               26707 non-null  uint8  \n",
      " 30  hhs_geo_region_fpwskwrf               26707 non-null  uint8  \n",
      " 31  hhs_geo_region_kbazzjca               26707 non-null  uint8  \n",
      " 32  hhs_geo_region_lrircsnp               26707 non-null  uint8  \n",
      " 33  hhs_geo_region_lzgpxyit               26707 non-null  uint8  \n",
      " 34  hhs_geo_region_mlyzmhmf               26707 non-null  uint8  \n",
      " 35  hhs_geo_region_oxchjgsf               26707 non-null  uint8  \n",
      " 36  hhs_geo_region_qufhixun               26707 non-null  uint8  \n",
      " 37  census_msa_MSA, Not Principle  City   26707 non-null  uint8  \n",
      " 38  census_msa_MSA, Principle City        26707 non-null  uint8  \n",
      " 39  census_msa_Non-MSA                    26707 non-null  uint8  \n",
      " 40  employment_occupation_bxpfxfdn        26707 non-null  uint8  \n",
      " 41  employment_occupation_ccgxvspp        26707 non-null  uint8  \n",
      " 42  employment_occupation_cmhcxjea        26707 non-null  uint8  \n",
      " 43  employment_occupation_dcjcmpih        26707 non-null  uint8  \n",
      " 44  employment_occupation_dlvbwzss        26707 non-null  uint8  \n",
      " 45  employment_occupation_emcorrxb        26707 non-null  uint8  \n",
      " 46  employment_occupation_haliazsg        26707 non-null  uint8  \n",
      " 47  employment_occupation_hfxkjkmi        26707 non-null  uint8  \n",
      " 48  employment_occupation_hodpvpew        26707 non-null  uint8  \n",
      " 49  employment_occupation_kldqjyjy        26707 non-null  uint8  \n",
      " 50  employment_occupation_mxkfnird        26707 non-null  uint8  \n",
      " 51  employment_occupation_oijqvulv        26707 non-null  uint8  \n",
      " 52  employment_occupation_pvmttkik        26707 non-null  uint8  \n",
      " 53  employment_occupation_qxajmpny        26707 non-null  uint8  \n",
      " 54  employment_occupation_rcertsgn        26707 non-null  uint8  \n",
      " 55  employment_occupation_tfqavkke        26707 non-null  uint8  \n",
      " 56  employment_occupation_ukymxvdu        26707 non-null  uint8  \n",
      " 57  employment_occupation_uqqtjvyb        26707 non-null  uint8  \n",
      " 58  employment_occupation_vlluhbov        26707 non-null  uint8  \n",
      " 59  employment_occupation_xgwztkwe        26707 non-null  uint8  \n",
      " 60  employment_occupation_xqwwgdyp        26707 non-null  uint8  \n",
      " 61  employment_occupation_xtkaffoo        26707 non-null  uint8  \n",
      " 62  employment_occupation_xzmlyyjv        26707 non-null  uint8  \n",
      " 63  employment_industry_arjwrbjb          26707 non-null  uint8  \n",
      " 64  employment_industry_atmlpfrs          26707 non-null  uint8  \n",
      " 65  employment_industry_cfqqtusy          26707 non-null  uint8  \n",
      " 66  employment_industry_dotnnunm          26707 non-null  uint8  \n",
      " 67  employment_industry_fcxhlnwr          26707 non-null  uint8  \n",
      " 68  employment_industry_haxffmxo          26707 non-null  uint8  \n",
      " 69  employment_industry_ldnlellj          26707 non-null  uint8  \n",
      " 70  employment_industry_mcubkhph          26707 non-null  uint8  \n",
      " 71  employment_industry_mfikgejo          26707 non-null  uint8  \n",
      " 72  employment_industry_msuufmds          26707 non-null  uint8  \n",
      " 73  employment_industry_nduyfdeo          26707 non-null  uint8  \n",
      " 74  employment_industry_phxvnwax          26707 non-null  uint8  \n",
      " 75  employment_industry_pxcmvdjn          26707 non-null  uint8  \n",
      " 76  employment_industry_qnlwzans          26707 non-null  uint8  \n",
      " 77  employment_industry_rucpziij          26707 non-null  uint8  \n",
      " 78  employment_industry_saaquncn          26707 non-null  uint8  \n",
      " 79  employment_industry_vjjrobsf          26707 non-null  uint8  \n",
      " 80  employment_industry_wlfvacwt          26707 non-null  uint8  \n",
      " 81  employment_industry_wxleyezf          26707 non-null  uint8  \n",
      " 82  employment_industry_xicduogh          26707 non-null  uint8  \n",
      " 83  employment_industry_xqicxuve          26707 non-null  uint8  \n",
      " 84  employment_status_Employed            26707 non-null  uint8  \n",
      " 85  employment_status_Not in Labor Force  26707 non-null  uint8  \n",
      " 86  employment_status_Unemployed          26707 non-null  uint8  \n",
      " 87  rent_or_own_Own                       26707 non-null  uint8  \n",
      " 88  rent_or_own_Rent                      26707 non-null  uint8  \n",
      " 89  marital_status_Married                26707 non-null  uint8  \n",
      " 90  marital_status_Not Married            26707 non-null  uint8  \n",
      " 91  race_Black                            26707 non-null  uint8  \n",
      " 92  race_Hispanic                         26707 non-null  uint8  \n",
      " 93  race_Other or Multiple                26707 non-null  uint8  \n",
      " 94  race_White                            26707 non-null  uint8  \n",
      " 95  sex_Female                            26707 non-null  uint8  \n",
      " 96  sex_Male                              26707 non-null  uint8  \n",
      "dtypes: float64(25), int64(2), uint8(70)\n",
      "memory usage: 7.3 MB\n"
     ]
    }
   ],
   "source": [
    "train_X.info()"
   ]
  },
  {
   "cell_type": "code",
   "execution_count": null,
   "metadata": {},
   "outputs": [],
   "source": []
  }
 ],
 "metadata": {
  "kernelspec": {
   "display_name": "flu-31zsVi3q-py3.9",
   "language": "python",
   "name": "python3"
  },
  "language_info": {
   "codemirror_mode": {
    "name": "ipython",
    "version": 3
   },
   "file_extension": ".py",
   "mimetype": "text/x-python",
   "name": "python",
   "nbconvert_exporter": "python",
   "pygments_lexer": "ipython3",
   "version": "3.9.13"
  },
  "orig_nbformat": 4
 },
 "nbformat": 4,
 "nbformat_minor": 2
}
